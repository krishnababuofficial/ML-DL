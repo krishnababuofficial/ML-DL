{
 "cells": [
  {
   "cell_type": "code",
   "execution_count": 1,
   "id": "04327dbd",
   "metadata": {},
   "outputs": [],
   "source": [
    "import pandas as pd\n",
    "import numpy as np\n",
    "import matplotlib.pyplot as plt\n",
    "import seaborn as sns\n",
    "\n",
    "import tensorflow as tf\n",
    "from tensorflow import keras\n",
    "from sklearn.model_selection import train_test_split\n",
    "from keras.utils import np_utils\n",
    "from tensorflow.keras import Sequential\n",
    "from tensorflow.keras.layers import Dense,Flatten\n",
    "\n",
    "import warnings\n",
    "warnings.filterwarnings('ignore')"
   ]
  },
  {
   "cell_type": "code",
   "execution_count": 2,
   "id": "7549cc68",
   "metadata": {},
   "outputs": [],
   "source": [
    "df_train = pd.read_csv('mnist_train.csv')\n",
    "\n",
    "df_test  = pd.read_csv('mnist_test.csv')"
   ]
  },
  {
   "cell_type": "code",
   "execution_count": 3,
   "id": "65e314da",
   "metadata": {},
   "outputs": [
    {
     "name": "stdout",
     "output_type": "stream",
     "text": [
      "Train data shape: (60000, 785)\n",
      "\n",
      "Test data shape: (10000, 785)\n"
     ]
    }
   ],
   "source": [
    "print(f'Train data shape: {df_train.shape}\\n\\nTest data shape: {df_test.shape}')"
   ]
  },
  {
   "cell_type": "code",
   "execution_count": 4,
   "id": "98866f94",
   "metadata": {},
   "outputs": [
    {
     "data": {
      "text/plain": [
       "10"
      ]
     },
     "execution_count": 4,
     "metadata": {},
     "output_type": "execute_result"
    }
   ],
   "source": [
    "df_train.label.nunique()"
   ]
  },
  {
   "cell_type": "code",
   "execution_count": 5,
   "id": "a652894b",
   "metadata": {},
   "outputs": [],
   "source": [
    "x_train = df_train.drop(['label'],axis = 1)\n",
    "\n",
    "x_test = df_test.drop(['label'],axis = 1)"
   ]
  },
  {
   "cell_type": "code",
   "execution_count": 6,
   "id": "13aecf6b",
   "metadata": {
    "scrolled": true
   },
   "outputs": [
    {
     "name": "stdout",
     "output_type": "stream",
     "text": [
      "X train data: (60000, 784)\n",
      "\n",
      "X test data: (10000, 784)\n"
     ]
    }
   ],
   "source": [
    "# After splinting X and Y shape of X train and test data\n",
    "\n",
    "print(f'X train data: {x_train.shape}\\n\\nX test data: {x_test.shape}')"
   ]
  },
  {
   "cell_type": "code",
   "execution_count": 7,
   "id": "9273023d",
   "metadata": {},
   "outputs": [],
   "source": [
    "# Convet to array it becomes independent features\n",
    "x_train = np.array(x_train)\n",
    "x_test = np.array(x_test)\n",
    "\n",
    "# Scalling  features\n",
    "xtrain =  x_train / 255\n",
    "xtest = x_test / 255"
   ]
  },
  {
   "cell_type": "code",
   "execution_count": 8,
   "id": "4568cd6c",
   "metadata": {},
   "outputs": [],
   "source": [
    "y_train = df_train['label']\n",
    "\n",
    "y_test = df_test['label']"
   ]
  },
  {
   "cell_type": "code",
   "execution_count": 9,
   "id": "14329334",
   "metadata": {},
   "outputs": [],
   "source": [
    "# Converts a class vector (integers) to binary class matrix.\n",
    "# for use with `categorical_crossentropy`\n",
    "\n",
    "\n",
    "ytrain=np_utils.to_categorical(y_train)\n",
    "\n",
    "ytest=np_utils.to_categorical(y_test)"
   ]
  },
  {
   "cell_type": "code",
   "execution_count": 10,
   "id": "972220fd",
   "metadata": {},
   "outputs": [
    {
     "name": "stdout",
     "output_type": "stream",
     "text": [
      "Epoch 1/11\n",
      "1875/1875 [==============================] - 11s 5ms/step - loss: 0.2331 - accuracy: 0.9344\n",
      "Epoch 2/11\n",
      "1875/1875 [==============================] - 10s 5ms/step - loss: 0.0975 - accuracy: 0.9710\n",
      "Epoch 3/11\n",
      "1875/1875 [==============================] - 10s 5ms/step - loss: 0.0666 - accuracy: 0.9801\n",
      "Epoch 4/11\n",
      "1875/1875 [==============================] - 10s 5ms/step - loss: 0.0476 - accuracy: 0.9852\n",
      "Epoch 5/11\n",
      "1875/1875 [==============================] - 10s 5ms/step - loss: 0.0364 - accuracy: 0.9887\n",
      "Epoch 6/11\n",
      "1875/1875 [==============================] - 10s 5ms/step - loss: 0.0276 - accuracy: 0.9914\n",
      "Epoch 7/11\n",
      "1875/1875 [==============================] - 10s 5ms/step - loss: 0.0230 - accuracy: 0.9925\n",
      "Epoch 8/11\n",
      "1875/1875 [==============================] - 10s 5ms/step - loss: 0.0186 - accuracy: 0.9939\n",
      "Epoch 9/11\n",
      "1875/1875 [==============================] - 10s 5ms/step - loss: 0.0142 - accuracy: 0.9958\n",
      "Epoch 10/11\n",
      "1875/1875 [==============================] - 10s 5ms/step - loss: 0.0119 - accuracy: 0.9962\n",
      "Epoch 11/11\n",
      "1875/1875 [==============================] - 10s 5ms/step - loss: 0.0115 - accuracy: 0.9965\n"
     ]
    },
    {
     "data": {
      "text/plain": [
       "<keras.callbacks.History at 0x1786cb3ec70>"
      ]
     },
     "execution_count": 10,
     "metadata": {},
     "output_type": "execute_result"
    }
   ],
   "source": [
    "model = Sequential()\n",
    "model.add(Dense(units = 200, input_shape=(784,), activation ='relu'))\n",
    "model.add(Dense(units = 10, activation = 'softmax'))\n",
    "\n",
    "model.compile(\n",
    "    optimizer = 'adam',\n",
    "    loss = 'categorical_crossentropy',\n",
    "    metrics = ['accuracy']\n",
    ")\n",
    "          \n",
    "model.fit(xtrain, ytrain, epochs=11)    "
   ]
  },
  {
   "cell_type": "code",
   "execution_count": 11,
   "id": "eda2e22a",
   "metadata": {},
   "outputs": [
    {
     "name": "stdout",
     "output_type": "stream",
     "text": [
      "313/313 [==============================] - 1s 3ms/step - loss: 0.0823 - accuracy: 0.9793\n"
     ]
    },
    {
     "data": {
      "text/plain": [
       "[0.08226098865270615, 0.9793000221252441]"
      ]
     },
     "execution_count": 11,
     "metadata": {},
     "output_type": "execute_result"
    }
   ],
   "source": [
    "model.evaluate(xtest,ytest)"
   ]
  },
  {
   "cell_type": "code",
   "execution_count": 12,
   "id": "8aca777e",
   "metadata": {},
   "outputs": [
    {
     "name": "stdout",
     "output_type": "stream",
     "text": [
      "313/313 [==============================] - 1s 2ms/step\n"
     ]
    }
   ],
   "source": [
    "y_prediction = model.predict(xtest)"
   ]
  },
  {
   "cell_type": "code",
   "execution_count": 13,
   "id": "556b313a",
   "metadata": {},
   "outputs": [
    {
     "data": {
      "text/plain": [
       "array([1.2645237e-11, 6.0630084e-11, 1.0000000e+00, 2.3502381e-12,\n",
       "       3.0916984e-20, 2.6480541e-12, 5.3827423e-13, 1.0032141e-21,\n",
       "       3.0169495e-11, 1.1665334e-17], dtype=float32)"
      ]
     },
     "execution_count": 13,
     "metadata": {},
     "output_type": "execute_result"
    }
   ],
   "source": [
    "y_prediction[1]\n",
    "# from 0-9 the one which as highest score"
   ]
  },
  {
   "cell_type": "code",
   "execution_count": 14,
   "id": "efc2ac29",
   "metadata": {},
   "outputs": [
    {
     "data": {
      "text/plain": [
       "2"
      ]
     },
     "execution_count": 14,
     "metadata": {},
     "output_type": "execute_result"
    }
   ],
   "source": [
    "np.argmax(y_prediction[1])"
   ]
  },
  {
   "cell_type": "code",
   "execution_count": 15,
   "id": "28770097",
   "metadata": {},
   "outputs": [
    {
     "data": {
      "text/plain": [
       "0    7\n",
       "1    2\n",
       "2    1\n",
       "3    0\n",
       "4    4\n",
       "Name: label, dtype: int64"
      ]
     },
     "execution_count": 15,
     "metadata": {},
     "output_type": "execute_result"
    }
   ],
   "source": [
    "y_test[:5]\n",
    "\n",
    "# These are the y test first 5 Ytest[Target], Lets see if the model is predicting the same value with the Xtest[Features]"
   ]
  },
  {
   "cell_type": "code",
   "execution_count": 16,
   "id": "c9a26420",
   "metadata": {},
   "outputs": [
    {
     "data": {
      "text/plain": [
       "[7, 2, 1, 0, 4]"
      ]
     },
     "execution_count": 16,
     "metadata": {},
     "output_type": "execute_result"
    }
   ],
   "source": [
    "y_predicted = [np.argmax(i) for i in y_prediction]\n",
    "y_predicted[:5]\n",
    "\n",
    "#model works fine "
   ]
  },
  {
   "cell_type": "code",
   "execution_count": 17,
   "id": "645372f1",
   "metadata": {},
   "outputs": [],
   "source": [
    "# Confusion Matrix\n",
    "\n",
    "cm = tf.math.confusion_matrix(labels = y_test, predictions = y_predicted)"
   ]
  },
  {
   "cell_type": "code",
   "execution_count": 18,
   "id": "28b561fd",
   "metadata": {},
   "outputs": [
    {
     "data": {
      "text/plain": [
       "Text(95.72222222222221, 0.5, 'Truth')"
      ]
     },
     "execution_count": 18,
     "metadata": {},
     "output_type": "execute_result"
    },
    {
     "data": {
      "image/png": "[encoded data removed]",
      "text/plain": [
       "<Figure size 1000x700 with 2 Axes>"
      ]
     },
     "metadata": {},
     "output_type": "display_data"
    }
   ],
   "source": [
    "plt.figure(figsize = (10,7))\n",
    "sns.heatmap(cm, annot=True, fmt ='d')\n",
    "plt.xlabel('Predicted')\n",
    "plt.ylabel('Truth')"
   ]
  },
  {
   "cell_type": "code",
   "execution_count": null,
   "id": "27649fe2",
   "metadata": {},
   "outputs": [],
   "source": []
  }
 ],
 "metadata": {
  "kernelspec": {
   "display_name": "Python 3 (ipykernel)",
   "language": "python",
   "name": "python3"
  },
  "language_info": {
   "codemirror_mode": {
    "name": "ipython",
    "version": 3
   },
   "file_extension": ".py",
   "mimetype": "text/x-python",
   "name": "python",
   "nbconvert_exporter": "python",
   "pygments_lexer": "ipython3",
   "version": "3.9.13"
  }
 },
 "nbformat": 4,
 "nbformat_minor": 5
}
